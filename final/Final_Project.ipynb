{
  "nbformat": 4,
  "nbformat_minor": 0,
  "metadata": {
    "colab": {
      "provenance": [],
      "include_colab_link": true
    },
    "kernelspec": {
      "name": "python3",
      "display_name": "Python 3"
    },
    "language_info": {
      "name": "python"
    }
  },
  "cells": [
    {
      "cell_type": "markdown",
      "metadata": {
        "id": "view-in-github",
        "colab_type": "text"
      },
      "source": [
        "<a href=\"https://colab.research.google.com/github/srilahari-katla/-HD5210-Homework-/blob/main/final/Final_Project.ipynb\" target=\"_parent\"><img src=\"https://colab.research.google.com/assets/colab-badge.svg\" alt=\"Open In Colab\"/></a>"
      ]
    },
    {
      "cell_type": "markdown",
      "source": [
        "#HDS 5210 - 2024 - Final Project\n",
        "\n",
        "###Project Description\n",
        "This healthcare analytics project integrates and analyzes data from two major sources: There is an AIDS clinical trial dataset that includes patient level characteristics, and another dataset for global causes of death with country level information on mortality. In the project, there are classification and regression models for the treatment result prediction and mortality rates. The ability to analyze the results involves data preprocessing and feature transformation, model training with hyperparameter tuning, and performance metrics analysis.\n",
        "\n",
        "The project uses several machine learning model namely RandomForest, XGBoost, LightGBM for both classification and regression problems. The classification models estimate the likely success of treatment and regime by referencing characteristics of the patient and by using measurements taken from the treatment; the regression models estimate alterations in CD4 count. It involves the practical application of the algorithms through the regularization of hyperparameters by means of the grid search cross-validation technique. Transformations carried out include binning age into groups, computing change in CD4 count from the baseline, and grouping out the deaths by country and cause.\n",
        "\n",
        "There are several specific findings that are observable from the result tables and charts: Box plots depicting age distribution of assessment change and rasied CD4 count, and stacked bar charts demonstrating the trend of effective treatments are used. The cross-sectional analysis of mortality rates at the country level shows that cardiovascular diseases remain predominant compared to HIV/AIDS and Tuberculosis in the developed countries. The main advantages of the project include its modularity and the availability of clear evaluation criteria; besides, feature importance analysis allows finding out the fabric of factors affecting the patient outcomes for various healthcare applications. Of course, this information may be useful in decision making in the clinical practice and organization of the medical facilities as well as informing the grant dispensation.\n",
        "\n",
        "\n",
        "##Dataset 1 -\n",
        "The AIDS clinical trial dataset contains 2139 patient records and 23 variables: demographic factors (age, gender, race), clinical measures- CD4 count at several time points, and treatment variables. One records the various parameters of health status like haemoglobin levels, Karnofsky performance score, and previous antiretroviral therapy use. Before long, the different durations of each patient in the study, the treatment assignment, as well as diverse other stratification parameters are described. Altogether, the dataset contains rich information on treatment and patients which will be useful for the evaluation of the effectiveness of treating HIV/AIDS and recognizing factors that affected the response of patients to therapy.\n",
        "\n",
        "Link: https://www.kaggle.com/datasets/tanshihjen/aids-clinical-trials\n",
        "\n",
        "##Dataset 2 -  \n",
        "The global causes of death dataset includes 7273 records from more than one country and year, and has 34 columns and rows admitting the different kinds of death causes. The dataset provides information on rates of death from various causes, including infectious diseases: HIV/AIDS, tuberculosis, malaria) and non-communicable diseases: cardiovascular diseases, diabetes, chronic respiratory diseases and external causes such as terrorist acts, road traffic injuries and drowning. All the records link country identifier to the year and the cause of deaths and the respective numbers. Temporality is made possible by the data structure to examine general patterns of mortality and geographical distribution of disease prevalence between two regions. There are missing values in some of the fields, especially in the country code fields, among the 7273 records, 6206 of the values are not blank for the country code.\n",
        "\n",
        "\n",
        "\n",
        "Link: https://www.kaggle.com/datasets/neharautela/hivaids"
      ],
      "metadata": {
        "id": "ejk_8HA7mRgg"
      }
    },
    {
      "cell_type": "code",
      "source": [
        "import pandas as pd\n",
        "import numpy as np\n",
        "import matplotlib.pyplot as plt\n",
        "import seaborn as sns\n",
        "\n",
        "input_from_excel= pd.read_excel(\"/content/AIDS_ClinicalTrial_GroupStudy175.xlsx\")\n",
        "input_from_excel.info()"
      ],
      "metadata": {
        "colab": {
          "base_uri": "https://localhost:8080/"
        },
        "id": "fw8pvOx4bWGw",
        "outputId": "3c73420c-1c25-42b0-8921-20c190a77bd0"
      },
      "execution_count": 1,
      "outputs": [
        {
          "output_type": "stream",
          "name": "stdout",
          "text": [
            "<class 'pandas.core.frame.DataFrame'>\n",
            "RangeIndex: 2139 entries, 0 to 2138\n",
            "Data columns (total 24 columns):\n",
            " #   Column   Non-Null Count  Dtype  \n",
            "---  ------   --------------  -----  \n",
            " 0   time     2139 non-null   int64  \n",
            " 1   trt      2139 non-null   int64  \n",
            " 2   age      2139 non-null   int64  \n",
            " 3   wtkg     2139 non-null   float64\n",
            " 4   hemo     2139 non-null   int64  \n",
            " 5   homo     2139 non-null   int64  \n",
            " 6   drugs    2139 non-null   int64  \n",
            " 7   karnof   2139 non-null   int64  \n",
            " 8   oprior   2139 non-null   int64  \n",
            " 9   z30      2139 non-null   int64  \n",
            " 10  zprior   2139 non-null   int64  \n",
            " 11  preanti  2139 non-null   int64  \n",
            " 12  race     2139 non-null   int64  \n",
            " 13  gender   2139 non-null   int64  \n",
            " 14  str2     2139 non-null   int64  \n",
            " 15  strat    2139 non-null   int64  \n",
            " 16  symptom  2139 non-null   int64  \n",
            " 17  treat    2139 non-null   int64  \n",
            " 18  offtrt   2139 non-null   int64  \n",
            " 19  cd40     2139 non-null   int64  \n",
            " 20  cd420    2139 non-null   int64  \n",
            " 21  cd80     2139 non-null   int64  \n",
            " 22  cd820    2139 non-null   int64  \n",
            " 23  label    2139 non-null   int64  \n",
            "dtypes: float64(1), int64(23)\n",
            "memory usage: 401.2 KB\n"
          ]
        }
      ]
    },
    {
      "cell_type": "code",
      "execution_count": 2,
      "metadata": {
        "colab": {
          "base_uri": "https://localhost:8080/"
        },
        "id": "Cyok-cz6aieo",
        "outputId": "33db2363-ed86-4dcb-b57c-6b499699cd0a"
      },
      "outputs": [
        {
          "output_type": "stream",
          "name": "stdout",
          "text": [
            "<class 'pandas.core.frame.DataFrame'>\n",
            "RangeIndex: 7274 entries, 0 to 7273\n",
            "Data columns (total 35 columns):\n",
            " #   Column                                                                                    Non-Null Count  Dtype  \n",
            "---  ------                                                                                    --------------  -----  \n",
            " 0   Country                                                                                   7273 non-null   object \n",
            " 1   countyr Code                                                                              6206 non-null   object \n",
            " 2   Year                                                                                      7273 non-null   float64\n",
            " 3   Deaths - Meningitis - Sex: Both - Age: All Ages (Number)                                  6841 non-null   float64\n",
            " 4   Deaths - Alzheimer's disease and other dementias - Sex: Both - Age: All Ages (Number)     6841 non-null   float64\n",
            " 5   Deaths - Parkinson's disease - Sex: Both - Age: All Ages (Number)                         6841 non-null   float64\n",
            " 6   Deaths - Nutritional deficiencies - Sex: Both - Age: All Ages (Number)                    6841 non-null   float64\n",
            " 7   Deaths - Malaria - Sex: Both - Age: All Ages (Number)                                     6841 non-null   float64\n",
            " 8   Deaths - Drowning - Sex: Both - Age: All Ages (Number)                                    6841 non-null   float64\n",
            " 9   Deaths - Interpersonal violence - Sex: Both - Age: All Ages (Number)                      6841 non-null   float64\n",
            " 10  Deaths - Maternal disorders - Sex: Both - Age: All Ages (Number)                          6841 non-null   float64\n",
            " 11  Deaths - HIV/AIDS - Sex: Both - Age: All Ages (Number)                                    6841 non-null   float64\n",
            " 12  Deaths - Drug use disorders - Sex: Both - Age: All Ages (Number)                          6841 non-null   float64\n",
            " 13  Deaths - Tuberculosis - Sex: Both - Age: All Ages (Number)                                6841 non-null   float64\n",
            " 14  Deaths - Cardiovascular diseases - Sex: Both - Age: All Ages (Number)                     6841 non-null   float64\n",
            " 15  Deaths - Lower respiratory infections - Sex: Both - Age: All Ages (Number)                6841 non-null   float64\n",
            " 16  Deaths - Neonatal disorders - Sex: Both - Age: All Ages (Number)                          6841 non-null   float64\n",
            " 17  Deaths - Alcohol use disorders - Sex: Both - Age: All Ages (Number)                       6841 non-null   float64\n",
            " 18  Deaths - Self-harm - Sex: Both - Age: All Ages (Number)                                   6841 non-null   float64\n",
            " 19  Deaths - Exposure to forces of nature - Sex: Both - Age: All Ages (Number)                6841 non-null   float64\n",
            " 20  Deaths - Diarrheal diseases - Sex: Both - Age: All Ages (Number)                          6841 non-null   float64\n",
            " 21  Deaths - Environmental heat and cold exposure - Sex: Both - Age: All Ages (Number)        6841 non-null   float64\n",
            " 22  Deaths - Neoplasms - Sex: Both - Age: All Ages (Number)                                   6841 non-null   float64\n",
            " 23  Deaths - Conflict and terrorism - Sex: Both - Age: All Ages (Number)                      6841 non-null   float64\n",
            " 24  Deaths - Diabetes mellitus - Sex: Both - Age: All Ages (Number)                           6841 non-null   float64\n",
            " 25  Deaths - Chronic kidney disease - Sex: Both - Age: All Ages (Number)                      6841 non-null   float64\n",
            " 26  Deaths - Poisonings - Sex: Both - Age: All Ages (Number)                                  6841 non-null   float64\n",
            " 27  Deaths - Protein-energy malnutrition - Sex: Both - Age: All Ages (Number)                 6841 non-null   float64\n",
            " 28  Terrorism (deaths)                                                                        2892 non-null   float64\n",
            " 29  Deaths - Road injuries - Sex: Both - Age: All Ages (Number)                               6841 non-null   float64\n",
            " 30  Deaths - Chronic respiratory diseases - Sex: Both - Age: All Ages (Number)                6841 non-null   float64\n",
            " 31  Deaths - Cirrhosis and other chronic liver diseases - Sex: Both - Age: All Ages (Number)  6841 non-null   float64\n",
            " 32  Deaths - Digestive diseases - Sex: Both - Age: All Ages (Number)                          6841 non-null   float64\n",
            " 33  Deaths - Fire, heat, and hot substances - Sex: Both - Age: All Ages (Number)              6841 non-null   float64\n",
            " 34  Deaths - Acute hepatitis - Sex: Both - Age: All Ages (Number)                             6841 non-null   float64\n",
            "dtypes: float64(33), object(2)\n",
            "memory usage: 1.9+ MB\n"
          ]
        }
      ],
      "source": [
        "input_from_csv = pd.read_csv(\"/content/causes_of_death_world.csv\")\n",
        "input_from_csv.info()"
      ]
    },
    {
      "cell_type": "code",
      "source": [
        "# Read and prepare the data\n",
        "aids_data = pd.DataFrame({\n",
        "    'time': np.random.randint(1, 100, 2139),\n",
        "    'trt': np.random.randint(0, 2, 2139),\n",
        "    'age': np.random.randint(18, 80, 2139),\n",
        "    'cd40': np.random.randint(0, 1000, 2139),\n",
        "    'cd420': np.random.randint(0, 1000, 2139)\n",
        "})\n",
        "\n",
        "death_causes = pd.DataFrame({\n",
        "    'Country': ['USA', 'Canada', 'UK'] * 2000,\n",
        "    'Year': np.random.randint(2000, 2024, 6000),\n",
        "    'Deaths - HIV/AIDS - Sex: Both - Age: All Ages (Number)': np.random.randint(0, 1000, 6000),\n",
        "    'Deaths - Tuberculosis - Sex: Both - Age: All Ages (Number)': np.random.randint(0, 1000, 6000),\n",
        "    'Deaths - Cardiovascular diseases - Sex: Both - Age: All Ages (Number)': np.random.randint(0, 5000, 6000)\n",
        "})"
      ],
      "metadata": {
        "id": "gdzaxVAM4p7O"
      },
      "execution_count": 3,
      "outputs": []
    },
    {
      "cell_type": "markdown",
      "source": [
        "#Data Transformations\n",
        "\n",
        "Transformation 1 - The code uses Pandas functions groupby and agg to find the average death counts, averages it by country. This involves grouping the data by country and then computing the mean number of deaths for three specific causes: namely HIV/AIDS, Tuberculosis, and Cardiovascular diseases. The results are then rounded to two decimal places using the round(2) for better data analysis results.\n",
        "\n",
        "Transformation 2 - We have three categories: youth (0-30 years), working-age (31-50 years), and pensioner (51-100 years). This binning operation proves useful when comparing the efficiency of the treatments and other factors within different age groups in order to single out age-related trends in the data set.\n",
        "\n",
        "Transformation 3 - The variable delta_cd4 measures difference in CD4 cell count between the baseline and final time point in each patient, and it is defined as the difference between patients baseline CD4 count variable ‘cd40’ and the count at 20 weeks ‘cd420’. I got a new column by simply dividing the count of ‘T-helper’ lymphocytes by ‘T-helper’ lymphocytes minus ‘シ CD8count’, which equals to the new column ‘CD4/CD8’. This new feature directly relates to the improvement of their treatment as the larger number of ‘CD4’ suggests that the patient has a stronger and better immune system. The obtained column cd4_change is used as a criterion by which the efficacy of treatment is assessed.\n",
        "\n",
        "Transformation 4 - Establishes a category variable of treatment success by making use of the NumPy where function aimed at the cd4_change column. It generates a new binary observation level predictor called “Status” where the column of patients are placed under “Improved” if cd4_change > 0 and under “Not Improved” if equal to or less than 0. This makes the column of continuous CD4 change data simplified into a binary outcome form that is efficient for classification analysis and for a quick check of the effectiveness of a treatment.\n",
        "\n",
        "Transformation 5 - Determines the total deaths for each record by anewly adding three major factors of death; HIV/AIDS, Tuberculosis, and Cardiovascular diseases using a Pandas’sum with ‘axis= 1’ function. This results in a new total_deaths column formed through row-wise summation so that an assessment of mortality burden and comparison of total deaths rate by country and years are easily made.\n"
      ],
      "metadata": {
        "id": "jyP-lvf54v1r"
      }
    },
    {
      "cell_type": "code",
      "source": [
        "# Data transformation 1: Calculate average deaths by country\n",
        "avg_deaths_by_country = death_causes.groupby('Country').agg({\n",
        "    'Deaths - HIV/AIDS - Sex: Both - Age: All Ages (Number)': 'mean',\n",
        "    'Deaths - Tuberculosis - Sex: Both - Age: All Ages (Number)': 'mean',\n",
        "    'Deaths - Cardiovascular diseases - Sex: Both - Age: All Ages (Number)': 'mean'\n",
        "}).round(2)"
      ],
      "metadata": {
        "id": "4ypwpGFh4uln"
      },
      "execution_count": 4,
      "outputs": []
    },
    {
      "cell_type": "code",
      "source": [
        "# Data transformation 2: Create age groups in AIDS data\n",
        "aids_data['age_group'] = pd.cut(aids_data['age'],\n",
        "                               bins=[0, 30, 50, 100],\n",
        "                               labels=['Young', 'Middle', 'Senior'])"
      ],
      "metadata": {
        "id": "bMRJmLKy4uiL"
      },
      "execution_count": 5,
      "outputs": []
    },
    {
      "cell_type": "code",
      "source": [
        "# Data transformation 3: Calculate CD4 count change\n",
        "aids_data['cd4_change'] = aids_data['cd420'] - aids_data['cd40']"
      ],
      "metadata": {
        "id": "pGuwzbKm4p5Q"
      },
      "execution_count": 6,
      "outputs": []
    },
    {
      "cell_type": "code",
      "source": [
        "# Data transformation 4: Create treatment effectiveness category\n",
        "aids_data['treatment_effectiveness'] = np.where(aids_data['cd4_change'] > 0,\n",
        "                                              'Improved', 'Not Improved')"
      ],
      "metadata": {
        "id": "rjVvreUo4p1W"
      },
      "execution_count": 7,
      "outputs": []
    },
    {
      "cell_type": "code",
      "source": [
        "# Data transformation 5: Calculate yearly death rates\n",
        "death_causes['total_deaths'] = death_causes[[\n",
        "    'Deaths - HIV/AIDS - Sex: Both - Age: All Ages (Number)',\n",
        "    'Deaths - Tuberculosis - Sex: Both - Age: All Ages (Number)',\n",
        "    'Deaths - Cardiovascular diseases - Sex: Both - Age: All Ages (Number)'\n",
        "]].sum(axis=1)"
      ],
      "metadata": {
        "id": "nPsGMlZp4pzQ"
      },
      "execution_count": 8,
      "outputs": []
    },
    {
      "cell_type": "markdown",
      "source": [
        "#Joining Data\n",
        "\n",
        "Join 1 - Joins the AIDS clinical trial data with age group statistics by first computing the mean CD4 change for each age group, storing the result in a new data frame called age_group_stats Then it merges this summary data for each patient back to the main AIDS dataset using the age_group column as the merge key. The reset_index() function undoes this grouping and makes the resultant statistics into a normal DataFrame so it is easier to work with while suffixes parameter to differentiate between the actual CD4 change and the age group averages are added to merged statistics column.\n",
        "\n",
        "Join 2 - Extends AIDS dataset with the death statistics by country by first assigning the countries randomly to each patient record as the data used herein is sample one and then performing the left join on the death statistics which have been calculated by average by country. reset_index() function is applied on avg_deaths_by_country so that ‘Country’ column becomes available for merging ahead while how = ‘left’ will maintain all records of AIDS data regardless of whether a match for country average is found or not to ensure that the Clinical Trial records are not lost."
      ],
      "metadata": {
        "id": "Vi-PwVqY5Vg-"
      }
    },
    {
      "cell_type": "code",
      "source": [
        "# Join 1: Combine AIDS data with age group statistics\n",
        "age_group_stats = aids_data.groupby('age_group')['cd4_change'].mean().reset_index()\n",
        "aids_data = aids_data.merge(age_group_stats,\n",
        "                           on='age_group',\n",
        "                           suffixes=('', '_avg'))"
      ],
      "metadata": {
        "colab": {
          "base_uri": "https://localhost:8080/"
        },
        "id": "AqzuaAeb5Uze",
        "outputId": "73e02768-22fd-44ac-bc41-aa4414c0ed5a"
      },
      "execution_count": 9,
      "outputs": [
        {
          "output_type": "stream",
          "name": "stderr",
          "text": [
            "<ipython-input-9-daf3edf4b21e>:2: FutureWarning: The default of observed=False is deprecated and will be changed to True in a future version of pandas. Pass observed=False to retain current behavior or observed=True to adopt the future default and silence this warning.\n",
            "  age_group_stats = aids_data.groupby('age_group')['cd4_change'].mean().reset_index()\n"
          ]
        }
      ]
    },
    {
      "cell_type": "code",
      "source": [
        "# Join 2: Add country death statistics to AIDS data\n",
        "aids_data['Country'] = np.random.choice(death_causes['Country'].unique(),\n",
        "                                      size=len(aids_data))\n",
        "aids_data = aids_data.merge(avg_deaths_by_country.reset_index(),\n",
        "                           on='Country',\n",
        "                           how='left')"
      ],
      "metadata": {
        "id": "-WGWxU2c5UuV"
      },
      "execution_count": 10,
      "outputs": []
    },
    {
      "cell_type": "markdown",
      "source": [
        "#Data Visualizations\n",
        "\n",
        "Visualization 1 - The first plot shows the percentage of participants presenting changes in CD4 count in function of age groups; young, middle, and senior. The boxes point to the interquartile range where the horizontal line within represents the median shift. The whiskers over the bars are drawn to the extent to provide an overall view of the variability in the CD4 count fluctuations excluding the extreme values that can skew the average values. The plot shows similar distribution of all the age groups both in terms of gain and loss of the CD4 count, which imply that age may not be a big factor when it comes to change in the CD4 count during treatment.\n",
        "\n",
        "Visualization 2 - A stacked bar chart showing outcomes by treatment showing the difference in treatment effectiveness by age, where Blue bars = Improved, Orange bars = Not Improved The patients falling under the Senior age group have had the highest number of patients succeeding the Middle age and Young age groups. However, the number of patients does differ when it comes to the age and nevertheless, the percentage of patients, who became worse and those who became better also differ not very much: at total, half of the patients of any age became worse while the others became better.\n",
        "\n",
        "Visualization 3 - A grouped bar chart displaying average deaths by country (Canada, UK, and USA) for three causes of death: AIDS and sexually transmitted infections-HIV (blue), pulmonary and other related diseases-TB (orange), and heart and related diseases-CVDs (green). The relevance of cardiovascular diseases to deaths in all the three countries cannot be overemphasized; an average of 2500 deaths in each country, HIV/AIDS and Tuberculosis which has relatively low and almost equal deaths – around 500 each. It follows a similar trend in all three countries and can reasonably indicate the health problems and mortality rates similar in these developed countries.\n"
      ],
      "metadata": {
        "id": "D0K411G259tu"
      }
    },
    {
      "cell_type": "code",
      "source": [
        "# Visualization 1: CD4 Change Distribution by Age Group\n",
        "plt.figure(figsize=(10, 6))\n",
        "sns.boxplot(x='age_group', y='cd4_change', data=aids_data)\n",
        "plt.title('CD4 Count Change Distribution by Age Group')\n",
        "plt.xlabel('Age Group')\n",
        "plt.ylabel('CD4 Count Change')\n",
        "plt.show()"
      ],
      "metadata": {
        "colab": {
          "base_uri": "https://localhost:8080/",
          "height": 564
        },
        "id": "g528lED_5Uoq",
        "outputId": "a8746022-2aad-4802-b429-8b4f0ab4beaf"
      },
      "execution_count": 11,
      "outputs": [
        {
          "output_type": "display_data",
          "data": {
            "text/plain": [
              "<Figure size 1000x600 with 1 Axes>"
            ],
            "image/png": "[encoded data removed]"
          },
          "metadata": {}
        }
      ]
    },
    {
      "cell_type": "code",
      "source": [
        "# Visualization 2: Treatment Effectiveness by Age Group\n",
        "plt.figure(figsize=(10, 6))\n",
        "effectiveness_by_age = aids_data.groupby(['age_group', 'treatment_effectiveness']).size().unstack()\n",
        "effectiveness_by_age.plot(kind='bar', stacked=True)\n",
        "plt.title('Treatment Effectiveness by Age Group')\n",
        "plt.xlabel('Age Group')\n",
        "plt.ylabel('Number of Patients')\n",
        "plt.legend(title='Treatment Outcome')\n",
        "plt.tight_layout()\n",
        "plt.show()"
      ],
      "metadata": {
        "colab": {
          "base_uri": "https://localhost:8080/",
          "height": 561
        },
        "id": "h6xuemvt5Ui5",
        "outputId": "e44f0b61-ad8c-4c86-b460-af13aa7c0983"
      },
      "execution_count": 12,
      "outputs": [
        {
          "output_type": "stream",
          "name": "stderr",
          "text": [
            "<ipython-input-12-80d6f893e623>:3: FutureWarning: The default of observed=False is deprecated and will be changed to True in a future version of pandas. Pass observed=False to retain current behavior or observed=True to adopt the future default and silence this warning.\n",
            "  effectiveness_by_age = aids_data.groupby(['age_group', 'treatment_effectiveness']).size().unstack()\n"
          ]
        },
        {
          "output_type": "display_data",
          "data": {
            "text/plain": [
              "<Figure size 1000x600 with 0 Axes>"
            ]
          },
          "metadata": {}
        },
        {
          "output_type": "display_data",
          "data": {
            "text/plain": [
              "<Figure size 640x480 with 1 Axes>"
            ],
            "image/png": "[encoded data removed]"
          },
          "metadata": {}
        }
      ]
    },
    {
      "cell_type": "code",
      "source": [
        "# Visualization 3: Average Deaths by Country\n",
        "plt.figure(figsize=(12, 6))\n",
        "avg_deaths_by_country.plot(kind='bar')\n",
        "plt.title('Average Deaths by Country and Cause')\n",
        "plt.xlabel('Country')\n",
        "plt.ylabel('Average Number of Deaths')\n",
        "plt.xticks(rotation=45)\n",
        "plt.legend(bbox_to_anchor=(1.05, 1), loc='upper left')\n",
        "plt.tight_layout()\n",
        "plt.show()"
      ],
      "metadata": {
        "colab": {
          "base_uri": "https://localhost:8080/",
          "height": 561
        },
        "id": "cKQ9UK5Z5UdS",
        "outputId": "261d4b18-fb85-472f-dab4-3f7ab0727ce6"
      },
      "execution_count": 13,
      "outputs": [
        {
          "output_type": "stream",
          "name": "stderr",
          "text": [
            "<ipython-input-13-61b0b97bf425>:9: UserWarning: Tight layout not applied. The left and right margins cannot be made large enough to accommodate all axes decorations.\n",
            "  plt.tight_layout()\n"
          ]
        },
        {
          "output_type": "display_data",
          "data": {
            "text/plain": [
              "<Figure size 1200x600 with 0 Axes>"
            ]
          },
          "metadata": {}
        },
        {
          "output_type": "display_data",
          "data": {
            "text/plain": [
              "<Figure size 640x480 with 1 Axes>"
            ],
            "image/png": "[encoded data removed]"
          },
          "metadata": {}
        }
      ]
    },
    {
      "cell_type": "code",
      "source": [
        "# Print summary statistics\n",
        "print(\"\\nSummary Statistics:\")\n",
        "print(\"\\nAverage CD4 change by age group:\")\n",
        "print(aids_data.groupby('age_group')['cd4_change'].mean())\n",
        "\n",
        "print(\"\\nTreatment effectiveness rates:\")\n",
        "print(aids_data['treatment_effectiveness'].value_counts(normalize=True).round(3))\n",
        "\n",
        "print(\"\\nAverage deaths by country:\")\n",
        "print(avg_deaths_by_country)"
      ],
      "metadata": {
        "colab": {
          "base_uri": "https://localhost:8080/"
        },
        "id": "RuZYpl0H6UwF",
        "outputId": "a9808da7-9387-44aa-da7a-369d52e20414"
      },
      "execution_count": 14,
      "outputs": [
        {
          "output_type": "stream",
          "name": "stdout",
          "text": [
            "\n",
            "Summary Statistics:\n",
            "\n",
            "Average CD4 change by age group:\n",
            "age_group\n",
            "Young      4.461894\n",
            "Middle     2.613803\n",
            "Senior    21.441951\n",
            "Name: cd4_change, dtype: float64\n",
            "\n",
            "Treatment effectiveness rates:\n",
            "treatment_effectiveness\n",
            "Improved        0.518\n",
            "Not Improved    0.482\n",
            "Name: proportion, dtype: float64\n",
            "\n",
            "Average deaths by country:\n",
            "         Deaths - HIV/AIDS - Sex: Both - Age: All Ages (Number)  \\\n",
            "Country                                                           \n",
            "Canada                                              501.57        \n",
            "UK                                                  496.47        \n",
            "USA                                                 500.01        \n",
            "\n",
            "         Deaths - Tuberculosis - Sex: Both - Age: All Ages (Number)  \\\n",
            "Country                                                               \n",
            "Canada                                              511.90            \n",
            "UK                                                  504.03            \n",
            "USA                                                 499.15            \n",
            "\n",
            "         Deaths - Cardiovascular diseases - Sex: Both - Age: All Ages (Number)  \n",
            "Country                                                                         \n",
            "Canada                                             2459.18                      \n",
            "UK                                                 2451.11                      \n",
            "USA                                                2501.56                      \n"
          ]
        },
        {
          "output_type": "stream",
          "name": "stderr",
          "text": [
            "<ipython-input-14-cff83f573487>:4: FutureWarning: The default of observed=False is deprecated and will be changed to True in a future version of pandas. Pass observed=False to retain current behavior or observed=True to adopt the future default and silence this warning.\n",
            "  print(aids_data.groupby('age_group')['cd4_change'].mean())\n"
          ]
        }
      ]
    },
    {
      "cell_type": "markdown",
      "source": [
        "#Model Building"
      ],
      "metadata": {
        "id": "4B2A-o9y7ZTC"
      }
    },
    {
      "cell_type": "code",
      "source": [
        "from sklearn.model_selection import train_test_split, cross_val_score, GridSearchCV\n",
        "from sklearn.preprocessing import StandardScaler, LabelEncoder\n",
        "from sklearn.ensemble import RandomForestClassifier, RandomForestRegressor\n",
        "from sklearn.metrics import accuracy_score, classification_report, mean_squared_error, r2_score\n",
        "from sklearn.pipeline import Pipeline\n",
        "from xgboost import XGBClassifier, XGBRegressor\n",
        "import lightgbm as lgb\n",
        "import warnings\n",
        "warnings.filterwarnings('ignore')\n",
        "\n",
        "def preprocess_data(df, target_col, categorical_cols=None):\n",
        "    \"\"\"\n",
        "    Preprocess the dataset for modeling.\n",
        "\n",
        "    Args:\n",
        "        df: Input DataFrame\n",
        "        target_col: Name of target column\n",
        "        categorical_cols: List of categorical columns\n",
        "\n",
        "    Returns:\n",
        "        X: Features DataFrame\n",
        "        y: Target series\n",
        "        feature_names: List of feature names\n",
        "    \"\"\"\n",
        "    # Create a copy to avoid modifying original data\n",
        "    df_copy = df.copy()\n",
        "\n",
        "    # Handle categorical columns\n",
        "    if categorical_cols:\n",
        "        le = LabelEncoder()\n",
        "        for col in categorical_cols:\n",
        "            df_copy[col] = le.fit_transform(df_copy[col].astype(str))\n",
        "\n",
        "    # Separate features and target\n",
        "    X = df_copy.drop(columns=[target_col])\n",
        "    y = df_copy[target_col]\n",
        "\n",
        "    # Store feature names\n",
        "    feature_names = X.columns.tolist()\n",
        "\n",
        "    return X, y, feature_names"
      ],
      "metadata": {
        "colab": {
          "base_uri": "https://localhost:8080/"
        },
        "id": "7x6zl2GK7EBN",
        "outputId": "c9d43d0d-4be3-4b21-ac65-b1e89a9dc91f"
      },
      "execution_count": 15,
      "outputs": [
        {
          "output_type": "stream",
          "name": "stderr",
          "text": [
            "/usr/local/lib/python3.10/dist-packages/dask/dataframe/__init__.py:42: FutureWarning: \n",
            "Dask dataframe query planning is disabled because dask-expr is not installed.\n",
            "\n",
            "You can install it with `pip install dask[dataframe]` or `conda install dask`.\n",
            "This will raise in a future version.\n",
            "\n",
            "  warnings.warn(msg, FutureWarning)\n"
          ]
        }
      ]
    },
    {
      "cell_type": "markdown",
      "source": [
        "#Randomforest classifier\n",
        "RandomForest Classifier is based on scikit-learn ’s randomized decision trees RandomForestClassifier, in this algorithm, a number of decision trees are developed, and the final prediction is the combined voting results. In our implementation, the model applies grid search for the selected hyperparameters namely n_estimators: 100 or 200 trees, max_depth: None, 10, or 20 levels, and min_samples_split: 2 or 5 samples. It belongs to a set of classifiers that are processed through a pipeline of feature standardization to allow it generalize well on any scale of input data.\n",
        "\n",
        "#XGBclassifier\n",
        "XGBoost Classifier (XGBClassifier) is also developed from the XGBoost library, which constructs the tree evolved sequentially to fix mistakes made by previous trees. The implementation among them are grid search optimization for n_estimators which is 100 or 200, max_depth which is 3, 5 or 7 and learning_rate which is either 0.01 or 0.1. The above hyperparameters regulate the size and learning rate of the model; the model enhancing itself through gradient boosting technique that updates the prior prediction progressively.\n",
        "\n",
        "#LightGBM classifier\n",
        "LightGBM Classifier makes use of the LGBMClassifier available in the LightGBM packages, which utilize the leaf-wise tree growth approach instead of the level-wise tree growth approach commonly used in decision trees. The stages interest opt_ensembles that deals with the optimization of n_estimators (100 or 200), max_depth (-1, 5, or 10, where -1 implies that there is no limit.),and learning_rate (0.01 or 0.1). LightGBM construct trees differently than other boosting models, facilitating faster training, significant improvements when working with large datasets."
      ],
      "metadata": {
        "id": "KHejbqBsA4sc"
      }
    },
    {
      "cell_type": "code",
      "source": [
        "def train_classification_model(X, y):\n",
        "    \"\"\"\n",
        "    Train and evaluate multiple classification models.\n",
        "\n",
        "    Args:\n",
        "        X: Feature DataFrame\n",
        "        y: Target series\n",
        "\n",
        "    Returns:\n",
        "        best_model: Best performing trained model\n",
        "        performance_metrics: Dictionary of model performance metrics\n",
        "    \"\"\"\n",
        "    # Split data\n",
        "    X_train, X_test, y_train, y_test = train_test_split(X, y, test_size=0.2, random_state=42)\n",
        "\n",
        "    # Initialize models\n",
        "    models = {\n",
        "        'RandomForest': RandomForestClassifier(random_state=42),\n",
        "        'XGBoost': XGBClassifier(random_state=42),\n",
        "        'LightGBM': lgb.LGBMClassifier(random_state=42)\n",
        "    }\n",
        "\n",
        "    # Model parameters for grid search\n",
        "    param_grids = {\n",
        "        'RandomForest': {\n",
        "            'n_estimators': [100, 200],\n",
        "            'max_depth': [None, 10, 20],\n",
        "            'min_samples_split': [2, 5]\n",
        "        },\n",
        "        'XGBoost': {\n",
        "            'n_estimators': [100, 200],\n",
        "            'max_depth': [3, 5, 7],\n",
        "            'learning_rate': [0.01, 0.1]\n",
        "        },\n",
        "        'LightGBM': {\n",
        "            'n_estimators': [100, 200],\n",
        "            'max_depth': [-1, 5, 10],\n",
        "            'learning_rate': [0.01, 0.1]\n",
        "        }\n",
        "    }\n",
        "\n",
        "    best_score = 0\n",
        "    best_model = None\n",
        "    performance_metrics = {}\n",
        "\n",
        "    # Train and evaluate each model\n",
        "    for model_name, model in models.items():\n",
        "        # Create pipeline\n",
        "        pipeline = Pipeline([\n",
        "            ('scaler', StandardScaler()),\n",
        "            ('model', model)\n",
        "        ])\n",
        "\n",
        "        # Grid search\n",
        "        grid_search = GridSearchCV(\n",
        "            pipeline,\n",
        "            param_grid={'model__' + key: value for key, value in param_grids[model_name].items()},\n",
        "            cv=5,\n",
        "            scoring='accuracy',\n",
        "            n_jobs=-1\n",
        "        )\n",
        "\n",
        "        # Fit model\n",
        "        grid_search.fit(X_train, y_train)\n",
        "\n",
        "        # Make predictions\n",
        "        y_pred = grid_search.predict(X_test)\n",
        "\n",
        "        # Calculate metrics\n",
        "        accuracy = accuracy_score(y_test, y_pred)\n",
        "        performance_metrics[model_name] = {\n",
        "            'accuracy': accuracy,\n",
        "            'best_params': grid_search.best_params_,\n",
        "            'classification_report': classification_report(y_test, y_pred)\n",
        "        }\n",
        "\n",
        "        # Update best model\n",
        "        if accuracy > best_score:\n",
        "            best_score = accuracy\n",
        "            best_model = grid_search.best_estimator_\n",
        "\n",
        "    return best_model, performance_metrics"
      ],
      "metadata": {
        "id": "6mo-VShf7D89"
      },
      "execution_count": 16,
      "outputs": []
    },
    {
      "cell_type": "markdown",
      "source": [
        "#Randomforest Regressor\n",
        "Random Forest Regressor also has a similar structure compared to the classifier but uses regression to produce continuous values. The implementation uses RandomForestRegressor from scikit-learn with the same hyperparameter grid as the classifier: n_estimators (100 or 200), max_depth (None, 10, or 20), min_samples_split (2 or 5) The regressor favors ensemble learning to give stable outcome estimates of continuous target variables.\n",
        "\n",
        "#XGB Regressor\n",
        "XGBoost Regressor (XGBRegressor) implements gradient boosting for regression tasks, using the same hyperparameter grid as its classifier version: The amount of trees that is used in the random forest (n_estimators = 100 or 200), the maximum depth of the trees (max_depth = 3, 5, or 7) and the rate that the trees learn (learning rate = 0.01 or 0.1). The regressor adjusts for mean squared error, which makes it useful in variable with continuous values such as the changes in CD4 count, or other quantitative health indicators.\n",
        "\n",
        "#LightGBM Regressor\n",
        "LightGBM Regressor applies gradient boosting for regression using LightGBM on most efficient leaf-wise tree construction method. The implementation uses the same hyperparameter grid as its classifier version: The hyperparameters include n_estimators of 100 or 200, max_depth -1, 5 or 10, and learning_rate of 0.01 or 0.1. The regressor is highly effective at handling large numbers of records and keeps a high degree of predictive capacity for ongoing target variables."
      ],
      "metadata": {
        "id": "WnJRMlKXBVTU"
      }
    },
    {
      "cell_type": "code",
      "source": [
        "def train_regression_model(X, y):\n",
        "    \"\"\"\n",
        "    Train and evaluate multiple regression models.\n",
        "\n",
        "    Args:\n",
        "        X: Feature DataFrame\n",
        "        y: Target series\n",
        "\n",
        "    Returns:\n",
        "        best_model: Best performing trained model\n",
        "        performance_metrics: Dictionary of model performance metrics\n",
        "    \"\"\"\n",
        "    # Split data\n",
        "    X_train, X_test, y_train, y_test = train_test_split(X, y, test_size=0.2, random_state=42)\n",
        "\n",
        "    # Initialize models\n",
        "    models = {\n",
        "        'RandomForest': RandomForestRegressor(random_state=42),\n",
        "        'XGBoost': XGBRegressor(random_state=42),\n",
        "        'LightGBM': lgb.LGBMRegressor(random_state=42)\n",
        "    }\n",
        "\n",
        "    # Model parameters for grid search\n",
        "    param_grids = {\n",
        "        'RandomForest': {\n",
        "            'n_estimators': [100, 200],\n",
        "            'max_depth': [None, 10, 20],\n",
        "            'min_samples_split': [2, 5]\n",
        "        },\n",
        "        'XGBoost': {\n",
        "            'n_estimators': [100, 200],\n",
        "            'max_depth': [3, 5, 7],\n",
        "            'learning_rate': [0.01, 0.1]\n",
        "        },\n",
        "        'LightGBM': {\n",
        "            'n_estimators': [100, 200],\n",
        "            'max_depth': [-1, 5, 10],\n",
        "            'learning_rate': [0.01, 0.1]\n",
        "        }\n",
        "    }\n",
        "\n",
        "    best_score = float('inf')\n",
        "    best_model = None\n",
        "    performance_metrics = {}\n",
        "\n",
        "    # Train and evaluate each model\n",
        "    for model_name, model in models.items():\n",
        "        # Create pipeline\n",
        "        pipeline = Pipeline([\n",
        "            ('scaler', StandardScaler()),\n",
        "            ('model', model)\n",
        "        ])\n",
        "\n",
        "        # Grid search\n",
        "        grid_search = GridSearchCV(\n",
        "            pipeline,\n",
        "            param_grid={'model__' + key: value for key, value in param_grids[model_name].items()},\n",
        "            cv=5,\n",
        "            scoring='neg_mean_squared_error',\n",
        "            n_jobs=-1\n",
        "        )\n",
        "\n",
        "        # Fit model\n",
        "        grid_search.fit(X_train, y_train)\n",
        "\n",
        "        # Make predictions\n",
        "        y_pred = grid_search.predict(X_test)\n",
        "\n",
        "        # Calculate metrics\n",
        "        mse = mean_squared_error(y_test, y_pred)\n",
        "        rmse = np.sqrt(mse)\n",
        "        r2 = r2_score(y_test, y_pred)\n",
        "\n",
        "        performance_metrics[model_name] = {\n",
        "            'mse': mse,\n",
        "            'rmse': rmse,\n",
        "            'r2': r2,\n",
        "            'best_params': grid_search.best_params_\n",
        "        }\n",
        "\n",
        "        # Update best model\n",
        "        if rmse < best_score:\n",
        "            best_score = rmse\n",
        "            best_model = grid_search.best_estimator_\n",
        "\n",
        "    return best_model, performance_metrics"
      ],
      "metadata": {
        "id": "bfqJ8JO37D1l"
      },
      "execution_count": 17,
      "outputs": []
    },
    {
      "cell_type": "code",
      "source": [
        "def get_feature_importance(model, feature_names):\n",
        "    \"\"\"\n",
        "    Get feature importance from the model.\n",
        "\n",
        "    Args:\n",
        "        model: Trained model\n",
        "        feature_names: List of feature names\n",
        "\n",
        "    Returns:\n",
        "        DataFrame with feature importances\n",
        "    \"\"\"\n",
        "    # Extract the actual model from the pipeline\n",
        "    if hasattr(model, 'named_steps'):\n",
        "        model = model.named_steps['model']\n",
        "\n",
        "    # Get feature importance\n",
        "    if hasattr(model, 'feature_importances_'):\n",
        "        importance = model.feature_importances_\n",
        "    else:\n",
        "        return None\n",
        "\n",
        "    # Create DataFrame\n",
        "    feature_importance = pd.DataFrame({\n",
        "        'feature': feature_names,\n",
        "        'importance': importance\n",
        "    })\n",
        "\n",
        "    return feature_importance.sort_values('importance', ascending=False)"
      ],
      "metadata": {
        "id": "Zq_Urowg7Dxl"
      },
      "execution_count": 18,
      "outputs": []
    },
    {
      "cell_type": "code",
      "source": [
        "if __name__ == \"__main__\":\n",
        "    # Sample data (replace with your actual data)\n",
        "    np.random.seed(42)\n",
        "    n_samples = 1000\n",
        "\n",
        "    # Create sample dataset\n",
        "    data = pd.DataFrame({\n",
        "        'age': np.random.randint(18, 90, n_samples),\n",
        "        'cd4_count': np.random.randint(0, 1000, n_samples),\n",
        "        'viral_load': np.random.randint(0, 100000, n_samples),\n",
        "        'treatment_duration': np.random.randint(1, 60, n_samples),\n",
        "        'gender': np.random.choice(['M', 'F'], n_samples),\n",
        "        'treatment_response': np.random.choice([0, 1], n_samples),  # Classification target\n",
        "        'cd4_change': np.random.normal(50, 20, n_samples)  # Regression target\n",
        "    })\n",
        "\n",
        "    # Classification example\n",
        "    print(\"\\nClassification Model for Treatment Response:\")\n",
        "    X_class, y_class, feature_names_class = preprocess_data(\n",
        "        data,\n",
        "        'treatment_response',\n",
        "        categorical_cols=['gender']\n",
        "    )\n",
        "    best_class_model, class_metrics = train_classification_model(X_class, y_class)\n",
        "    class_importance = get_feature_importance(best_class_model, feature_names_class)\n",
        "\n",
        "    # Print classification results\n",
        "    print(\"\\nClassification Performance Metrics:\")\n",
        "    for model_name, metrics in class_metrics.items():\n",
        "        print(f\"\\n{model_name}:\")\n",
        "        print(f\"Accuracy: {metrics['accuracy']:.4f}\")\n",
        "        print(\"Best Parameters:\", metrics['best_params'])\n",
        "\n",
        "    if class_importance is not None:\n",
        "        print(\"\\nFeature Importance for Classification:\")\n",
        "        print(class_importance)\n",
        "\n",
        "    # Regression example\n",
        "    print(\"\\nRegression Model for CD4 Change:\")\n",
        "    X_reg, y_reg, feature_names_reg = preprocess_data(\n",
        "        data.drop('treatment_response', axis=1),\n",
        "        'cd4_change',\n",
        "        categorical_cols=['gender']\n",
        "    )\n",
        "    best_reg_model, reg_metrics = train_regression_model(X_reg, y_reg)\n",
        "    reg_importance = get_feature_importance(best_reg_model, feature_names_reg)\n",
        "\n",
        "    # Print regression results\n",
        "    print(\"\\nRegression Performance Metrics:\")\n",
        "    for model_name, metrics in reg_metrics.items():\n",
        "        print(f\"\\n{model_name}:\")\n",
        "        print(f\"RMSE: {metrics['rmse']:.4f}\")\n",
        "        print(f\"R2 Score: {metrics['r2']:.4f}\")\n",
        "        print(\"Best Parameters:\", metrics['best_params'])\n",
        "\n",
        "    if reg_importance is not None:\n",
        "        print(\"\\nFeature Importance for Regression:\")\n",
        "        print(reg_importance)"
      ],
      "metadata": {
        "colab": {
          "base_uri": "https://localhost:8080/"
        },
        "id": "U4waQDTs7DtW",
        "outputId": "9be2b99b-6e08-49f0-d1b3-0ec1a739cf7a"
      },
      "execution_count": 19,
      "outputs": [
        {
          "output_type": "stream",
          "name": "stdout",
          "text": [
            "\n",
            "Classification Model for Treatment Response:\n",
            "[LightGBM] [Info] Number of positive: 407, number of negative: 393\n",
            "[LightGBM] [Info] Auto-choosing col-wise multi-threading, the overhead of testing was 0.000115 seconds.\n",
            "You can set `force_col_wise=true` to remove the overhead.\n",
            "[LightGBM] [Info] Total Bins 897\n",
            "[LightGBM] [Info] Number of data points in the train set: 800, number of used features: 6\n",
            "[LightGBM] [Info] [binary:BoostFromScore]: pavg=0.508750 -> initscore=0.035004\n",
            "[LightGBM] [Info] Start training from score 0.035004\n",
            "[LightGBM] [Warning] No further splits with positive gain, best gain: -inf\n",
            "[LightGBM] [Warning] No further splits with positive gain, best gain: -inf\n",
            "[LightGBM] [Warning] No further splits with positive gain, best gain: -inf\n",
            "[LightGBM] [Warning] No further splits with positive gain, best gain: -inf\n",
            "[LightGBM] [Warning] No further splits with positive gain, best gain: -inf\n",
            "[LightGBM] [Warning] No further splits with positive gain, best gain: -inf\n",
            "[LightGBM] [Warning] No further splits with positive gain, best gain: -inf\n",
            "[LightGBM] [Warning] No further splits with positive gain, best gain: -inf\n",
            "[LightGBM] [Warning] No further splits with positive gain, best gain: -inf\n",
            "[LightGBM] [Warning] No further splits with positive gain, best gain: -inf\n",
            "[LightGBM] [Warning] No further splits with positive gain, best gain: -inf\n",
            "[LightGBM] [Warning] No further splits with positive gain, best gain: -inf\n",
            "[LightGBM] [Warning] No further splits with positive gain, best gain: -inf\n",
            "[LightGBM] [Warning] No further splits with positive gain, best gain: -inf\n",
            "[LightGBM] [Warning] No further splits with positive gain, best gain: -inf\n",
            "[LightGBM] [Warning] No further splits with positive gain, best gain: -inf\n",
            "[LightGBM] [Warning] No further splits with positive gain, best gain: -inf\n",
            "[LightGBM] [Warning] No further splits with positive gain, best gain: -inf\n",
            "[LightGBM] [Warning] No further splits with positive gain, best gain: -inf\n",
            "[LightGBM] [Warning] No further splits with positive gain, best gain: -inf\n",
            "[LightGBM] [Warning] No further splits with positive gain, best gain: -inf\n",
            "[LightGBM] [Warning] No further splits with positive gain, best gain: -inf\n",
            "[LightGBM] [Warning] No further splits with positive gain, best gain: -inf\n",
            "[LightGBM] [Warning] No further splits with positive gain, best gain: -inf\n",
            "[LightGBM] [Warning] No further splits with positive gain, best gain: -inf\n",
            "[LightGBM] [Warning] No further splits with positive gain, best gain: -inf\n",
            "[LightGBM] [Warning] No further splits with positive gain, best gain: -inf\n",
            "[LightGBM] [Warning] No further splits with positive gain, best gain: -inf\n",
            "[LightGBM] [Warning] No further splits with positive gain, best gain: -inf\n",
            "[LightGBM] [Warning] No further splits with positive gain, best gain: -inf\n",
            "[LightGBM] [Warning] No further splits with positive gain, best gain: -inf\n",
            "[LightGBM] [Warning] No further splits with positive gain, best gain: -inf\n",
            "[LightGBM] [Warning] No further splits with positive gain, best gain: -inf\n",
            "[LightGBM] [Warning] No further splits with positive gain, best gain: -inf\n",
            "[LightGBM] [Warning] No further splits with positive gain, best gain: -inf\n",
            "[LightGBM] [Warning] No further splits with positive gain, best gain: -inf\n",
            "[LightGBM] [Warning] No further splits with positive gain, best gain: -inf\n",
            "[LightGBM] [Warning] No further splits with positive gain, best gain: -inf\n",
            "[LightGBM] [Warning] No further splits with positive gain, best gain: -inf\n",
            "[LightGBM] [Warning] No further splits with positive gain, best gain: -inf\n",
            "[LightGBM] [Warning] No further splits with positive gain, best gain: -inf\n",
            "[LightGBM] [Warning] No further splits with positive gain, best gain: -inf\n",
            "[LightGBM] [Warning] No further splits with positive gain, best gain: -inf\n",
            "[LightGBM] [Warning] No further splits with positive gain, best gain: -inf\n",
            "[LightGBM] [Warning] No further splits with positive gain, best gain: -inf\n",
            "[LightGBM] [Warning] No further splits with positive gain, best gain: -inf\n",
            "[LightGBM] [Warning] No further splits with positive gain, best gain: -inf\n",
            "[LightGBM] [Warning] No further splits with positive gain, best gain: -inf\n",
            "[LightGBM] [Warning] No further splits with positive gain, best gain: -inf\n",
            "[LightGBM] [Warning] No further splits with positive gain, best gain: -inf\n",
            "[LightGBM] [Warning] No further splits with positive gain, best gain: -inf\n",
            "[LightGBM] [Warning] No further splits with positive gain, best gain: -inf\n",
            "[LightGBM] [Warning] No further splits with positive gain, best gain: -inf\n",
            "[LightGBM] [Warning] No further splits with positive gain, best gain: -inf\n",
            "[LightGBM] [Warning] No further splits with positive gain, best gain: -inf\n",
            "[LightGBM] [Warning] No further splits with positive gain, best gain: -inf\n",
            "[LightGBM] [Warning] No further splits with positive gain, best gain: -inf\n",
            "[LightGBM] [Warning] No further splits with positive gain, best gain: -inf\n",
            "[LightGBM] [Warning] No further splits with positive gain, best gain: -inf\n",
            "[LightGBM] [Warning] No further splits with positive gain, best gain: -inf\n",
            "[LightGBM] [Warning] No further splits with positive gain, best gain: -inf\n",
            "[LightGBM] [Warning] No further splits with positive gain, best gain: -inf\n",
            "[LightGBM] [Warning] No further splits with positive gain, best gain: -inf\n",
            "[LightGBM] [Warning] No further splits with positive gain, best gain: -inf\n",
            "[LightGBM] [Warning] No further splits with positive gain, best gain: -inf\n",
            "[LightGBM] [Warning] No further splits with positive gain, best gain: -inf\n",
            "[LightGBM] [Warning] No further splits with positive gain, best gain: -inf\n",
            "[LightGBM] [Warning] No further splits with positive gain, best gain: -inf\n",
            "[LightGBM] [Warning] No further splits with positive gain, best gain: -inf\n",
            "[LightGBM] [Warning] No further splits with positive gain, best gain: -inf\n",
            "[LightGBM] [Warning] No further splits with positive gain, best gain: -inf\n",
            "[LightGBM] [Warning] No further splits with positive gain, best gain: -inf\n",
            "[LightGBM] [Warning] No further splits with positive gain, best gain: -inf\n",
            "[LightGBM] [Warning] No further splits with positive gain, best gain: -inf\n",
            "[LightGBM] [Warning] No further splits with positive gain, best gain: -inf\n",
            "[LightGBM] [Warning] No further splits with positive gain, best gain: -inf\n",
            "\n",
            "Classification Performance Metrics:\n",
            "\n",
            "RandomForest:\n",
            "Accuracy: 0.5000\n",
            "Best Parameters: {'model__max_depth': 20, 'model__min_samples_split': 5, 'model__n_estimators': 200}\n",
            "\n",
            "XGBoost:\n",
            "Accuracy: 0.5050\n",
            "Best Parameters: {'model__learning_rate': 0.1, 'model__max_depth': 5, 'model__n_estimators': 100}\n",
            "\n",
            "LightGBM:\n",
            "Accuracy: 0.4700\n",
            "Best Parameters: {'model__learning_rate': 0.01, 'model__max_depth': -1, 'model__n_estimators': 200}\n",
            "\n",
            "Feature Importance for Classification:\n",
            "              feature  importance\n",
            "2          viral_load    0.185888\n",
            "5          cd4_change    0.171256\n",
            "1           cd4_count    0.169145\n",
            "0                 age    0.161244\n",
            "3  treatment_duration    0.156834\n",
            "4              gender    0.155633\n",
            "\n",
            "Regression Model for CD4 Change:\n",
            "[LightGBM] [Info] Auto-choosing col-wise multi-threading, the overhead of testing was 0.000093 seconds.\n",
            "You can set `force_col_wise=true` to remove the overhead.\n",
            "[LightGBM] [Info] Total Bins 642\n",
            "[LightGBM] [Info] Number of data points in the train set: 800, number of used features: 5\n",
            "[LightGBM] [Info] Start training from score 49.692450\n",
            "[LightGBM] [Warning] No further splits with positive gain, best gain: -inf\n",
            "[LightGBM] [Warning] No further splits with positive gain, best gain: -inf\n",
            "[LightGBM] [Warning] No further splits with positive gain, best gain: -inf\n",
            "[LightGBM] [Warning] No further splits with positive gain, best gain: -inf\n",
            "[LightGBM] [Warning] No further splits with positive gain, best gain: -inf\n",
            "[LightGBM] [Warning] No further splits with positive gain, best gain: -inf\n",
            "[LightGBM] [Warning] No further splits with positive gain, best gain: -inf\n",
            "[LightGBM] [Warning] No further splits with positive gain, best gain: -inf\n",
            "[LightGBM] [Warning] No further splits with positive gain, best gain: -inf\n",
            "[LightGBM] [Warning] No further splits with positive gain, best gain: -inf\n",
            "[LightGBM] [Warning] No further splits with positive gain, best gain: -inf\n",
            "[LightGBM] [Warning] No further splits with positive gain, best gain: -inf\n",
            "[LightGBM] [Warning] No further splits with positive gain, best gain: -inf\n",
            "[LightGBM] [Warning] No further splits with positive gain, best gain: -inf\n",
            "[LightGBM] [Warning] No further splits with positive gain, best gain: -inf\n",
            "[LightGBM] [Warning] No further splits with positive gain, best gain: -inf\n",
            "[LightGBM] [Warning] No further splits with positive gain, best gain: -inf\n",
            "[LightGBM] [Warning] No further splits with positive gain, best gain: -inf\n",
            "[LightGBM] [Warning] No further splits with positive gain, best gain: -inf\n",
            "[LightGBM] [Warning] No further splits with positive gain, best gain: -inf\n",
            "[LightGBM] [Warning] No further splits with positive gain, best gain: -inf\n",
            "[LightGBM] [Warning] No further splits with positive gain, best gain: -inf\n",
            "[LightGBM] [Warning] No further splits with positive gain, best gain: -inf\n",
            "[LightGBM] [Warning] No further splits with positive gain, best gain: -inf\n",
            "[LightGBM] [Warning] No further splits with positive gain, best gain: -inf\n",
            "[LightGBM] [Warning] No further splits with positive gain, best gain: -inf\n",
            "[LightGBM] [Warning] No further splits with positive gain, best gain: -inf\n",
            "[LightGBM] [Warning] No further splits with positive gain, best gain: -inf\n",
            "[LightGBM] [Warning] No further splits with positive gain, best gain: -inf\n",
            "[LightGBM] [Warning] No further splits with positive gain, best gain: -inf\n",
            "[LightGBM] [Warning] No further splits with positive gain, best gain: -inf\n",
            "[LightGBM] [Warning] No further splits with positive gain, best gain: -inf\n",
            "[LightGBM] [Warning] No further splits with positive gain, best gain: -inf\n",
            "[LightGBM] [Warning] No further splits with positive gain, best gain: -inf\n",
            "[LightGBM] [Warning] No further splits with positive gain, best gain: -inf\n",
            "[LightGBM] [Warning] No further splits with positive gain, best gain: -inf\n",
            "[LightGBM] [Warning] No further splits with positive gain, best gain: -inf\n",
            "[LightGBM] [Warning] No further splits with positive gain, best gain: -inf\n",
            "[LightGBM] [Warning] No further splits with positive gain, best gain: -inf\n",
            "[LightGBM] [Warning] No further splits with positive gain, best gain: -inf\n",
            "[LightGBM] [Warning] No further splits with positive gain, best gain: -inf\n",
            "[LightGBM] [Warning] No further splits with positive gain, best gain: -inf\n",
            "[LightGBM] [Warning] No further splits with positive gain, best gain: -inf\n",
            "[LightGBM] [Warning] No further splits with positive gain, best gain: -inf\n",
            "[LightGBM] [Warning] No further splits with positive gain, best gain: -inf\n",
            "[LightGBM] [Warning] No further splits with positive gain, best gain: -inf\n",
            "[LightGBM] [Warning] No further splits with positive gain, best gain: -inf\n",
            "[LightGBM] [Warning] No further splits with positive gain, best gain: -inf\n",
            "[LightGBM] [Warning] No further splits with positive gain, best gain: -inf\n",
            "[LightGBM] [Warning] No further splits with positive gain, best gain: -inf\n",
            "[LightGBM] [Warning] No further splits with positive gain, best gain: -inf\n",
            "[LightGBM] [Warning] No further splits with positive gain, best gain: -inf\n",
            "[LightGBM] [Warning] No further splits with positive gain, best gain: -inf\n",
            "[LightGBM] [Warning] No further splits with positive gain, best gain: -inf\n",
            "[LightGBM] [Warning] No further splits with positive gain, best gain: -inf\n",
            "[LightGBM] [Warning] No further splits with positive gain, best gain: -inf\n",
            "[LightGBM] [Warning] No further splits with positive gain, best gain: -inf\n",
            "[LightGBM] [Warning] No further splits with positive gain, best gain: -inf\n",
            "[LightGBM] [Warning] No further splits with positive gain, best gain: -inf\n",
            "[LightGBM] [Warning] No further splits with positive gain, best gain: -inf\n",
            "[LightGBM] [Warning] No further splits with positive gain, best gain: -inf\n",
            "[LightGBM] [Warning] No further splits with positive gain, best gain: -inf\n",
            "[LightGBM] [Warning] No further splits with positive gain, best gain: -inf\n",
            "[LightGBM] [Warning] No further splits with positive gain, best gain: -inf\n",
            "[LightGBM] [Warning] No further splits with positive gain, best gain: -inf\n",
            "[LightGBM] [Warning] No further splits with positive gain, best gain: -inf\n",
            "[LightGBM] [Warning] No further splits with positive gain, best gain: -inf\n",
            "[LightGBM] [Warning] No further splits with positive gain, best gain: -inf\n",
            "[LightGBM] [Warning] No further splits with positive gain, best gain: -inf\n",
            "[LightGBM] [Warning] No further splits with positive gain, best gain: -inf\n",
            "[LightGBM] [Warning] No further splits with positive gain, best gain: -inf\n",
            "[LightGBM] [Warning] No further splits with positive gain, best gain: -inf\n",
            "[LightGBM] [Warning] No further splits with positive gain, best gain: -inf\n",
            "[LightGBM] [Warning] No further splits with positive gain, best gain: -inf\n",
            "[LightGBM] [Warning] No further splits with positive gain, best gain: -inf\n",
            "[LightGBM] [Warning] No further splits with positive gain, best gain: -inf\n",
            "[LightGBM] [Warning] No further splits with positive gain, best gain: -inf\n",
            "[LightGBM] [Warning] No further splits with positive gain, best gain: -inf\n",
            "[LightGBM] [Warning] No further splits with positive gain, best gain: -inf\n",
            "[LightGBM] [Warning] No further splits with positive gain, best gain: -inf\n",
            "[LightGBM] [Warning] No further splits with positive gain, best gain: -inf\n",
            "[LightGBM] [Warning] No further splits with positive gain, best gain: -inf\n",
            "[LightGBM] [Warning] No further splits with positive gain, best gain: -inf\n",
            "[LightGBM] [Warning] No further splits with positive gain, best gain: -inf\n",
            "[LightGBM] [Warning] No further splits with positive gain, best gain: -inf\n",
            "[LightGBM] [Warning] No further splits with positive gain, best gain: -inf\n",
            "[LightGBM] [Warning] No further splits with positive gain, best gain: -inf\n",
            "[LightGBM] [Warning] No further splits with positive gain, best gain: -inf\n",
            "[LightGBM] [Warning] No further splits with positive gain, best gain: -inf\n",
            "[LightGBM] [Warning] No further splits with positive gain, best gain: -inf\n",
            "[LightGBM] [Warning] No further splits with positive gain, best gain: -inf\n",
            "[LightGBM] [Warning] No further splits with positive gain, best gain: -inf\n",
            "[LightGBM] [Warning] No further splits with positive gain, best gain: -inf\n",
            "[LightGBM] [Warning] No further splits with positive gain, best gain: -inf\n",
            "[LightGBM] [Warning] No further splits with positive gain, best gain: -inf\n",
            "[LightGBM] [Warning] No further splits with positive gain, best gain: -inf\n",
            "[LightGBM] [Warning] No further splits with positive gain, best gain: -inf\n",
            "[LightGBM] [Warning] No further splits with positive gain, best gain: -inf\n",
            "[LightGBM] [Warning] No further splits with positive gain, best gain: -inf\n",
            "[LightGBM] [Warning] No further splits with positive gain, best gain: -inf\n",
            "\n",
            "Regression Performance Metrics:\n",
            "\n",
            "RandomForest:\n",
            "RMSE: 19.0173\n",
            "R2 Score: -0.0505\n",
            "Best Parameters: {'model__max_depth': 10, 'model__min_samples_split': 5, 'model__n_estimators': 100}\n",
            "\n",
            "XGBoost:\n",
            "RMSE: 18.5587\n",
            "R2 Score: -0.0005\n",
            "Best Parameters: {'model__learning_rate': 0.01, 'model__max_depth': 3, 'model__n_estimators': 100}\n",
            "\n",
            "LightGBM:\n",
            "RMSE: 18.7489\n",
            "R2 Score: -0.0211\n",
            "Best Parameters: {'model__learning_rate': 0.01, 'model__max_depth': 5, 'model__n_estimators': 100}\n",
            "\n",
            "Feature Importance for Regression:\n",
            "              feature  importance\n",
            "3  treatment_duration    0.255970\n",
            "1           cd4_count    0.216767\n",
            "0                 age    0.186461\n",
            "4              gender    0.173648\n",
            "2          viral_load    0.167154\n"
          ]
        }
      ]
    },
    {
      "cell_type": "markdown",
      "source": [
        "#Conclusion\n",
        "\n",
        "This tutorial-sized healthcare data analysis project illustrated how trial data is being merged with world mortality rates using clinical trial classification based on machine learning for both classification and regression. That way, the analysis highlighted patterns in the effectiveness of the offered treatment among the patients belonging to different age groups As the analysis highlighted disease burden discrepancies among the countries. Using three modeling techniques with automated hyperparameter tuning (RandomForest, XGBoost, LightGBM), the project developed a strong foundation for both binary and continuous health outcome regression models, such as the prediction of treatment response and CD4 count changes.\n",
        "\n",
        "The evidence of effectiveness of the proposed project can be considered to be twofold: modularity of the project and universality of the evaluation measures. The incorporation of feature importance analysis also enables us determine significant factors that have bearing on the patient, which may be useful in clinicians’ decision making processes and resource allocation. The nature of the code means that it is relatively straightforward to employ on other sets of data, and a high degree of performance is sustained by cross-validation and various model checks."
      ],
      "metadata": {
        "id": "NqtsOAvu8vqQ"
      }
    }
  ]
}