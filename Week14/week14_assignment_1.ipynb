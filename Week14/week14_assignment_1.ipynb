{
  "cells": [
    {
      "cell_type": "markdown",
      "metadata": {
        "nbgrader": {
          "grade": false,
          "grade_id": "cell-fc1c39d0d6f8b82a",
          "locked": true,
          "schema_version": 1,
          "solution": false
        },
        "id": "1T44KVIBCSZw"
      },
      "source": [
        "# Week 14 Review Assignmnet\n",
        "\n",
        "For the questions below, we're going to refer exclusively to an HHCAPS survey data set that is available in `/data/hhcaps.csv`.  Use whatever commands you want to calculate the information required to get to the answer.  Then, enter your answer in the answers cell as usual.\n",
        "\n",
        "**NOTE: Enter your answers as string values (inside quotation marks \"\") even if the answer is actually numeric.**\n",
        "\n",
        "---\n",
        "---\n"
      ]
    },
    {
      "cell_type": "code",
      "execution_count": 1,
      "metadata": {
        "nbgrader": {
          "grade": false,
          "grade_id": "intro",
          "locked": true,
          "schema_version": 1,
          "solution": false
        },
        "id": "gLxN75eLCSZx"
      },
      "outputs": [],
      "source": [
        "%matplotlib inline\n",
        "import pandas as pd\n",
        "\n",
        "hhcaps = pd.read_csv('https://hds5210-data.s3.amazonaws.com/hhcaps.csv')"
      ]
    },
    {
      "cell_type": "markdown",
      "metadata": {
        "nbgrader": {
          "grade": false,
          "grade_id": "q01-intro",
          "locked": true,
          "schema_version": 1,
          "solution": false
        },
        "id": "LB5iK_W4CSZx"
      },
      "source": [
        "## #01 -\n",
        "\n",
        "How many columns does this file contain?"
      ]
    },
    {
      "cell_type": "code",
      "execution_count": 2,
      "metadata": {
        "id": "XIBmny2xCSZy",
        "outputId": "34415fdd-2396-45c5-926d-53fcdbccab17",
        "colab": {
          "base_uri": "https://localhost:8080/"
        }
      },
      "outputs": [
        {
          "output_type": "execute_result",
          "data": {
            "text/plain": [
              "(12000, 39)"
            ]
          },
          "metadata": {},
          "execution_count": 2
        }
      ],
      "source": [
        "# Write some code to figure it out\n",
        "hhcaps.shape"
      ]
    },
    {
      "cell_type": "code",
      "execution_count": 3,
      "metadata": {
        "nbgrader": {
          "grade": false,
          "grade_id": "q01-solution",
          "locked": false,
          "schema_version": 1,
          "solution": true
        },
        "id": "2HfDAU2BCSZy"
      },
      "outputs": [],
      "source": [
        "answers={}\n",
        "answers['40.1'] = 39 # NOTE: Use a number, not string to answer this question"
      ]
    },
    {
      "cell_type": "markdown",
      "metadata": {
        "nbgrader": {
          "grade": false,
          "grade_id": "q02-intro",
          "locked": true,
          "schema_version": 1,
          "solution": false
        },
        "id": "T4STSBjRCSZy"
      },
      "source": [
        "## #02 -\n",
        "\n",
        "How many different values for State are there in this file?"
      ]
    },
    {
      "cell_type": "code",
      "execution_count": 4,
      "metadata": {
        "id": "8xsIaRrzCSZy",
        "outputId": "8b5f13b5-e4b9-4237-d829-7132c614652e",
        "colab": {
          "base_uri": "https://localhost:8080/"
        }
      },
      "outputs": [
        {
          "output_type": "stream",
          "name": "stdout",
          "text": [
            "Number of unique states: 55\n"
          ]
        }
      ],
      "source": [
        "# Write some code to figure it out\n",
        "num_states = hhcaps['State'].nunique()\n",
        "print(f\"Number of unique states: {num_states}\")"
      ]
    },
    {
      "cell_type": "code",
      "execution_count": 5,
      "metadata": {
        "nbgrader": {
          "grade": false,
          "grade_id": "q02-solution",
          "locked": false,
          "schema_version": 1,
          "solution": true
        },
        "id": "S1jsy4jUCSZy"
      },
      "outputs": [],
      "source": [
        "answers['40.2'] = 55 # NOTE: Use a number, not a string to answer this question"
      ]
    },
    {
      "cell_type": "markdown",
      "metadata": {
        "nbgrader": {
          "grade": false,
          "grade_id": "q03-intro",
          "locked": true,
          "schema_version": 1,
          "solution": false
        },
        "id": "i37X62sZCSZy"
      },
      "source": [
        "## #03 -\n",
        "\n",
        "Which of those State values has the highest frequency of occurence?"
      ]
    },
    {
      "cell_type": "code",
      "execution_count": 6,
      "metadata": {
        "nbgrader": {
          "grade": false,
          "grade_id": "q03-solution",
          "locked": false,
          "schema_version": 1,
          "solution": true
        },
        "id": "WObcu3zICSZz",
        "outputId": "dd4842d2-8a30-4ea8-ed65-fb7a73c4e517",
        "colab": {
          "base_uri": "https://localhost:8080/"
        }
      },
      "outputs": [
        {
          "output_type": "stream",
          "name": "stdout",
          "text": [
            "State frequencies:\n",
            "State\n",
            "TX    2518\n",
            "CA    1319\n",
            "FL    1069\n",
            "OH     781\n",
            "IL     735\n",
            "MI     597\n",
            "PA     425\n",
            "MA     261\n",
            "OK     256\n",
            "VA     244\n",
            "IN     229\n",
            "MN     197\n",
            "LA     195\n",
            "CO     187\n",
            "NC     174\n",
            "AR     172\n",
            "AZ     169\n",
            "MO     169\n",
            "IA     163\n",
            "AL     152\n",
            "NV     143\n",
            "NY     141\n",
            "TN     140\n",
            "WI     119\n",
            "KS     117\n",
            "GA     106\n",
            "KY     104\n",
            "UT      98\n",
            "CT      91\n",
            "NM      77\n",
            "NE      75\n",
            "SC      70\n",
            "WA      63\n",
            "WV      61\n",
            "OR      57\n",
            "MD      53\n",
            "MS      48\n",
            "NJ      47\n",
            "ID      45\n",
            "PR      45\n",
            "SD      33\n",
            "NH      31\n",
            "DC      28\n",
            "MT      27\n",
            "RI      27\n",
            "WY      26\n",
            "DE      26\n",
            "ME      24\n",
            "ND      18\n",
            "HI      16\n",
            "AK      14\n",
            "VT      11\n",
            "GU       4\n",
            "MP       2\n",
            "VI       1\n",
            "Name: count, dtype: int64\n",
            "\n",
            "State with highest frequency: TX\n",
            "Number of occurrences: 2518\n"
          ]
        }
      ],
      "source": [
        "# Write some code to figure it out\n",
        "state_counts = hhcaps['State'].value_counts()\n",
        "most_common_state = state_counts.index[0]\n",
        "highest_frequency = state_counts.iloc[0]\n",
        "\n",
        "print(\"State frequencies:\")\n",
        "print(state_counts)\n",
        "\n",
        "print(f\"\\nState with highest frequency: {most_common_state}\")\n",
        "print(f\"Number of occurrences: {highest_frequency}\")"
      ]
    },
    {
      "cell_type": "code",
      "execution_count": 7,
      "metadata": {
        "nbgrader": {
          "grade": true,
          "grade_id": "q03-test",
          "locked": true,
          "points": 2,
          "schema_version": 1,
          "solution": false
        },
        "id": "PXi4FRMkCSZz"
      },
      "outputs": [],
      "source": [
        "answers['40.3'] = \"TX\""
      ]
    },
    {
      "cell_type": "markdown",
      "metadata": {
        "nbgrader": {
          "grade": false,
          "grade_id": "q04-intro",
          "locked": true,
          "schema_version": 1,
          "solution": false
        },
        "id": "pMmpiPtoCSZz"
      },
      "source": [
        "## #04 -\n",
        "\n",
        "Which of those State values has the best average performance on the `Star Rating for health team communicated well with them` score?"
      ]
    },
    {
      "cell_type": "code",
      "execution_count": 8,
      "metadata": {
        "nbgrader": {
          "grade": false,
          "grade_id": "q04-solution",
          "locked": false,
          "schema_version": 1,
          "solution": true
        },
        "id": "r7DpBr5JCSZz",
        "outputId": "5e3a6f79-e4bc-4ad1-e915-bd339d31f7f0",
        "colab": {
          "base_uri": "https://localhost:8080/"
        }
      },
      "outputs": [
        {
          "output_type": "stream",
          "name": "stdout",
          "text": [
            "Average 'Health Team Communication' Star Rating by State:\n",
            "State\n",
            "ME    4.650000\n",
            "WV    4.647059\n",
            "MS    4.636364\n",
            "AL    4.507692\n",
            "LA    4.487805\n",
            "KY    4.484536\n",
            "AR    4.384615\n",
            "TN    4.372881\n",
            "MT    4.333333\n",
            "SC    4.333333\n",
            "MO    4.300885\n",
            "VT    4.272727\n",
            "ND    4.250000\n",
            "NE    4.250000\n",
            "IA    4.204082\n",
            "KS    4.166667\n",
            "SD    4.166667\n",
            "PA    4.148325\n",
            "NC    4.138158\n",
            "NH    4.136364\n",
            "OK    4.128655\n",
            "WI    4.101449\n",
            "IN    4.030075\n",
            "VI    4.000000\n",
            "ID    3.972222\n",
            "RI    3.947368\n",
            "GA    3.917526\n",
            "VA    3.865772\n",
            "DE    3.846154\n",
            "NJ    3.833333\n",
            "WY    3.833333\n",
            "HI    3.818182\n",
            "MA    3.817308\n",
            "TX    3.811648\n",
            "CO    3.770833\n",
            "MI    3.716279\n",
            "NM    3.714286\n",
            "MD    3.695652\n",
            "IL    3.667820\n",
            "OH    3.666667\n",
            "FL    3.645228\n",
            "WA    3.642857\n",
            "UT    3.603774\n",
            "CT    3.550725\n",
            "MN    3.544554\n",
            "AK    3.500000\n",
            "OR    3.409091\n",
            "NY    3.378641\n",
            "AZ    3.277108\n",
            "CA    3.104508\n",
            "NV    3.000000\n",
            "PR    2.846154\n",
            "DC    2.000000\n",
            "GU         NaN\n",
            "MP         NaN\n",
            "Name: Star Rating for health team communicated well with them, dtype: float64\n",
            "\n",
            "Best performing state: ME\n",
            "Average score: 4.65 stars\n"
          ]
        }
      ],
      "source": [
        "# Write some code to figure it out\n",
        "state_avg_scores = hhcaps.groupby('State')['Star Rating for health team communicated well with them'].mean().sort_values(ascending=False)\n",
        "\n",
        "# Show all states and their average scores\n",
        "print(\"Average 'Health Team Communication' Star Rating by State:\")\n",
        "print(state_avg_scores)\n",
        "\n",
        "# Display the top performing state\n",
        "best_state = state_avg_scores.index[0]\n",
        "best_score = state_avg_scores.iloc[0]\n",
        "print(f\"\\nBest performing state: {best_state}\")\n",
        "print(f\"Average score: {best_score:.2f} stars\")\n"
      ]
    },
    {
      "cell_type": "code",
      "execution_count": 9,
      "metadata": {
        "nbgrader": {
          "grade": true,
          "grade_id": "q04-test",
          "locked": true,
          "points": 2,
          "schema_version": 1,
          "solution": false
        },
        "id": "26btY4CDCSZz"
      },
      "outputs": [],
      "source": [
        "answers['40.4'] = \"ME\""
      ]
    },
    {
      "cell_type": "markdown",
      "metadata": {
        "nbgrader": {
          "grade": false,
          "grade_id": "q05-intro",
          "locked": true,
          "schema_version": 1,
          "solution": false
        },
        "id": "4Laqj85pCSZz"
      },
      "source": [
        "## #05 -\n",
        "\n",
        "What was the average score on `Star Rating for how patients rated overall care from agency` for providers listed as having a `Type of Ownership` of `Hospital Based Program`\n",
        "\n",
        "**NOTE: Enter your answer with two decimal precision: 0.00**"
      ]
    },
    {
      "cell_type": "code",
      "execution_count": 10,
      "metadata": {
        "nbgrader": {
          "grade": false,
          "grade_id": "q05-solution",
          "locked": false,
          "schema_version": 1,
          "solution": true
        },
        "id": "euFkWR7bCSZz",
        "outputId": "c430546b-f68d-4f51-f11c-5f3e602791c2",
        "colab": {
          "base_uri": "https://localhost:8080/"
        }
      },
      "outputs": [
        {
          "output_type": "stream",
          "name": "stdout",
          "text": [
            "Average star rating for Hospital Based Programs: 3.69\n",
            "\n",
            "Number of Hospital Based Programs: 878\n",
            "\n",
            "Distribution of ratings for Hospital Based Programs:\n",
            "Star Rating for how patients rated overall care from agency\n",
            "1.0      2\n",
            "2.0     55\n",
            "3.0    210\n",
            "4.0    351\n",
            "5.0    104\n",
            "Name: count, dtype: int64\n"
          ]
        }
      ],
      "source": [
        "# Write some code to figure it out\n",
        "hospital_avg = hhcaps[hhcaps['Type of Ownership'] == 'Hospital Based Program']['Star Rating for how patients rated overall care from agency'].mean()\n",
        "\n",
        "# Show results with details\n",
        "print(f\"Average star rating for Hospital Based Programs: {hospital_avg:.2f}\")\n",
        "\n",
        "# Show additional context\n",
        "total_hospital_based = len(hhcaps[hhcaps['Type of Ownership'] == 'Hospital Based Program'])\n",
        "print(f\"\\nNumber of Hospital Based Programs: {total_hospital_based}\")\n",
        "\n",
        "# Show the distribution of ratings\n",
        "print(\"\\nDistribution of ratings for Hospital Based Programs:\")\n",
        "print(hhcaps[hhcaps['Type of Ownership'] == 'Hospital Based Program']['Star Rating for how patients rated overall care from agency'].value_counts().sort_index())"
      ]
    },
    {
      "cell_type": "code",
      "execution_count": 11,
      "metadata": {
        "nbgrader": {
          "grade": true,
          "grade_id": "q05-test",
          "locked": true,
          "points": 2,
          "schema_version": 1,
          "solution": false
        },
        "id": "Ww3JKg-nCSZz"
      },
      "outputs": [],
      "source": [
        "answers['40.5'] = 3.69 # NOTE: Write answer as number in form N.NN (No additional digits)"
      ]
    },
    {
      "cell_type": "markdown",
      "metadata": {
        "id": "pnp_IuNVCSZz"
      },
      "source": [
        "---\n",
        "\n",
        "Checking Your Work\n",
        "---\n",
        "\n",
        "After completing your work above and running each cell, you can check your answers by running the code below.\n",
        "\n",
        "The easiest way to do this is to use the `Kernel` -> `Restart Kernel and Run All Cells` menu option. This option restarts Python and runs every cell from top to bottom until it encounters an exception of some kind.  It will stop after running the cell below and outputing a summary of how many answers you have correct or incorrect.\n"
      ]
    },
    {
      "cell_type": "code",
      "execution_count": 12,
      "metadata": {
        "id": "aWlSsa3iCSZz",
        "outputId": "6243e6a8-549b-4f57-ce0b-ad23b8721082",
        "colab": {
          "base_uri": "https://localhost:8080/"
        }
      },
      "outputs": [
        {
          "output_type": "stream",
          "name": "stdout",
          "text": [
            "Question 40.1 is CORRECT\n",
            "Question 40.2 is CORRECT\n",
            "Question 40.3 is CORRECT\n",
            "Question 40.4 is CORRECT\n",
            "Question 40.5 is CORRECT\n"
          ]
        }
      ],
      "source": [
        "import pickle\n",
        "\n",
        "data = b\"\\x80\\x04\\x95?\\x00\\x00\\x00\\x00\\x00\\x00\\x00}\\x94(\\x8c\\x0440.1\\x94K'\\x8c\\x0440.2\\x94K7\\x8c\\x0440.3\\x94\\x8c\\x02TX\\x94\\x8c\\x0440.4\\x94\\x8c\\x02ME\\x94\\x8c\\x0440.5\\x94G@\\r\\x85\\x1e\\xb8Q\\xeb\\x85u.\"\n",
        "result = pickle.loads(data)\n",
        "\n",
        "for key in result:\n",
        "  if answers[key] == result[key]:\n",
        "    print(f\"Question {key} is CORRECT\")\n",
        "  else:\n",
        "    print(f\"Question {key} is INCORRECT\")"
      ]
    },
    {
      "cell_type": "markdown",
      "metadata": {
        "id": "SpB4T7sbCSZ0"
      },
      "source": [
        "---\n",
        "\n",
        "## Check your work above\n",
        "\n",
        "If you didn't get them all correct, take a few minutes to think through those that aren't correct.\n",
        "\n",
        "\n",
        "## Submitting Your Work\n",
        "\n",
        "In order to submit your work, you'll need to save this notebook file back to GitHub.  To do that in Google Colab:\n",
        "1. File -> Save a Copy in GitHub\n",
        "2. Make sure your HDS5210 repository is selected\n",
        "3. Make sure the file name includes the week number like this: `week14/week14_assignment_1.ipynb`\n",
        "4. Add a commit message that means something\n",
        "\n",
        "**Be sure week names are lowercase and use a two digit week number!!**\n",
        "\n",
        "**Be sure you use the same file name provided by the instructor!!**\n",
        "\n"
      ]
    }
  ],
  "metadata": {
    "celltoolbar": "Create Assignment",
    "kernelspec": {
      "display_name": "Python 3 (ipykernel)",
      "language": "python",
      "name": "python3"
    },
    "language_info": {
      "codemirror_mode": {
        "name": "ipython",
        "version": 3
      },
      "file_extension": ".py",
      "mimetype": "text/x-python",
      "name": "python",
      "nbconvert_exporter": "python",
      "pygments_lexer": "ipython3",
      "version": "3.13.0"
    },
    "colab": {
      "provenance": []
    }
  },
  "nbformat": 4,
  "nbformat_minor": 0
}